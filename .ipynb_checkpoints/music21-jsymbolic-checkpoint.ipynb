{
 "cells": [
  {
   "cell_type": "markdown",
   "metadata": {},
   "source": [
    "# Musical Feature Mining for Codetta using Music21\n",
    "\n",
    "The AIM of this notebook is demonstrate how how to extract multiple features from a corpus of midi files, into a csv format, so standard data science techniques could be performing, using any of pandas, sklearn etc... . \n",
    "\n",
    "#### Created by Corey Ford (c.j.ford@qmul.ac.uk) on the 20th of April 2021\n",
    "\n",
    "---"
   ]
  },
  {
   "cell_type": "markdown",
   "metadata": {},
   "source": [
    "## List of Features\n",
    "---\n",
    "Below is a list of the different features avalaible in JSymbolic that have been implemented in the Music21 library and that I think could be useful to detect stuff in Codetta...\n",
    "* Timbre: \n",
    "    * ViolinFractionFeature\n",
    "    * BrassFractionFeature\n",
    "    * **Note: fractions for Piano, glock, cello, viola, and pad are not avaliable.**\n",
    "\n",
    "* Melody:\n",
    "    * MelodicIntervalHistogramFeature\n",
    "    * AverageMelodicIntervalFeature\n",
    "    * MostCommonMelodicIntervalFeature\n",
    "    * DistanceBetweenMostCommonMelodicIntervalsFeature\n",
    "    * MostCommonMelodicIntervalPrevalenceFeature\n",
    "    * RelativeStrengthOfMostCommonIntervalsFeature\n",
    "    * NumberOfCommonMelodicIntervalsFeature\n",
    "    * AmountOfArpeggiationFeature\n",
    "    * RepeatedNotesFeature\n",
    "    * ChromaticMotionFeature\n",
    "    * StepwieMotionFeature\n",
    "    * MelodicThirdsFeature\n",
    "    * MelodicFifthsFeature\n",
    "    * MelodicTritonesFeature\n",
    "    * MelodicOctavesFeature\n",
    "    * DirectionOfMotionFeature\n",
    "    * DurationOfMelodicArcsFeature\n",
    "    * SizeOfMelodicArcsFeature\n",
    "\n",
    "* Pitch:\n",
    "    * MostCommonPitchPrevalenceFeature\n",
    "    * MostCommonPitchClassPrevalenceFeature\n",
    "    * NumberOfCommonPitchesFeature\n",
    "    * PitchVarietyFeature\n",
    "    * PitchClassVarietyFeature\n",
    "    * RangeFeature\n",
    "    * MostCommonPitchFeature\n",
    "    * MostCommonPitchClassFeature\n",
    "\n",
    "* Rhythm:\n",
    "    * NoteDensityFeature\n",
    "    * AverageNoteDurationFeature\n",
    "    * VariabilityOfNoteDurationFeature\n",
    "    * MaximumNoteDurationFeature\n",
    "    * MinimumNoteDurationFeature\n",
    "\n",
    "    * AverageTimeBetweenAttacksFeature\n",
    "    * VariabilityOfTimeBetweenAttacksFeature\n",
    "\n",
    "    * DurationFeature\n",
    "    \n",
    "A feature of Codetta is that it has a floating timeline. This sadly means that any data on time signature changes/tempo is best collected from the codetta XML files."
   ]
  },
  {
   "cell_type": "code",
   "execution_count": 6,
   "metadata": {},
   "outputs": [],
   "source": [
    "import music21 as m21\n",
    "import os \n",
    "import pandas as pd"
   ]
  },
  {
   "cell_type": "code",
   "execution_count": 16,
   "metadata": {},
   "outputs": [],
   "source": [
    "\n",
    "#here is a dictonary of useful features \n",
    "features = {\n",
    "    \"usefulFeature1\" : [],\n",
    "    \"usefulFeature2\" : []\n",
    "}\n",
    "\n",
    "\n",
    "# This is a folder full of the Codetta midi files...\n",
    "directory = '/Users/coreyford/Documents/UWE/Codetta Examples/Jingles/midi-files/'\n",
    "\n",
    "for filename in os.listdir(directory):\n",
    "    if filename.endswith(\".midi\"):# for each of the files\n",
    "        \n",
    "        #load the midi file\n",
    "        file = m21.converter.parse(directory+filename, format=\"midi\")\n",
    "        \n",
    "        # Store the features\n",
    "        # Note the .extract().vector[0] at the end, for any of the histograms remove the [0]\n",
    "        features[\"usefulFeature1\"].append(m21.features.jSymbolic.AcousticGuitarFractionFeature(file).extract().vector[0])\n",
    "        features[\"usefulFeature2\"].append(m21.features.jSymbolic.DirectionOfMotionFeature(file).extract().vector[0])\n",
    "        # you can find more here: https://web.mit.edu/music21/doc/moduleReference/moduleFeaturesJSymbolic.html\n",
    "        "
   ]
  },
  {
   "cell_type": "code",
   "execution_count": 17,
   "metadata": {},
   "outputs": [
    {
     "data": {
      "text/html": [
       "<div>\n",
       "<style scoped>\n",
       "    .dataframe tbody tr th:only-of-type {\n",
       "        vertical-align: middle;\n",
       "    }\n",
       "\n",
       "    .dataframe tbody tr th {\n",
       "        vertical-align: top;\n",
       "    }\n",
       "\n",
       "    .dataframe thead th {\n",
       "        text-align: right;\n",
       "    }\n",
       "</style>\n",
       "<table border=\"1\" class=\"dataframe\">\n",
       "  <thead>\n",
       "    <tr style=\"text-align: right;\">\n",
       "      <th></th>\n",
       "      <th>usefulFeature1</th>\n",
       "      <th>usefulFeature2</th>\n",
       "    </tr>\n",
       "  </thead>\n",
       "  <tbody>\n",
       "    <tr>\n",
       "      <th>0</th>\n",
       "      <td>[0.0]</td>\n",
       "      <td>[0.75]</td>\n",
       "    </tr>\n",
       "    <tr>\n",
       "      <th>1</th>\n",
       "      <td>[0.0]</td>\n",
       "      <td>[0.65625]</td>\n",
       "    </tr>\n",
       "    <tr>\n",
       "      <th>2</th>\n",
       "      <td>[0.0]</td>\n",
       "      <td>[0.5289256198347108]</td>\n",
       "    </tr>\n",
       "  </tbody>\n",
       "</table>\n",
       "</div>"
      ],
      "text/plain": [
       "  usefulFeature1        usefulFeature2\n",
       "0          [0.0]                [0.75]\n",
       "1          [0.0]             [0.65625]\n",
       "2          [0.0]  [0.5289256198347108]"
      ]
     },
     "execution_count": 17,
     "metadata": {},
     "output_type": "execute_result"
    }
   ],
   "source": [
    "# Create a dataframe of the saved features \n",
    "df = pd.DataFrame.from_dict(features)\n",
    "df"
   ]
  },
  {
   "cell_type": "code",
   "execution_count": null,
   "metadata": {},
   "outputs": [],
   "source": [
    "#Do some analysis on it "
   ]
  }
 ],
 "metadata": {
  "kernelspec": {
   "display_name": "Python 3",
   "language": "python",
   "name": "python3"
  },
  "language_info": {
   "codemirror_mode": {
    "name": "ipython",
    "version": 3
   },
   "file_extension": ".py",
   "mimetype": "text/x-python",
   "name": "python",
   "nbconvert_exporter": "python",
   "pygments_lexer": "ipython3",
   "version": "3.8.3"
  }
 },
 "nbformat": 4,
 "nbformat_minor": 4
}
